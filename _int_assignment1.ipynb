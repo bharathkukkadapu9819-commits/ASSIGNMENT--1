{
 "cells": [
  {
   "cell_type": "code",
   "execution_count": 20,
   "id": "23353598-118d-479d-8712-d7ebe8bc69b6",
   "metadata": {},
   "outputs": [
    {
     "name": "stdout",
     "output_type": "stream",
     "text": [
      "1. 3628800\n"
     ]
    }
   ],
   "source": [
    "natural_numbers=1*2*3*4*5*6*7*8*9*10\n",
    "print(f\"1. {natural_numbers}\")"
   ]
  },
  {
   "cell_type": "code",
   "execution_count": 13,
   "id": "473884ea-d93c-4177-b48a-3fdf9d642ed1",
   "metadata": {},
   "outputs": [
    {
     "name": "stdout",
     "output_type": "stream",
     "text": [
      "2. Modulo or remainder : 2\n"
     ]
    }
   ],
   "source": [
    "big_number=156\n",
    "small_number=7\n",
    "remainder=big_number % small_number\n",
    "print(f\"2. Modulo or remainder : {remainder}\")"
   ]
  },
  {
   "cell_type": "code",
   "execution_count": 11,
   "id": "c0410929-916d-40a8-b0e3-5eeaa5a85757",
   "metadata": {},
   "outputs": [
    {
     "name": "stdout",
     "output_type": "stream",
     "text": [
      "3.Exponention or square of (25): 625\n"
     ]
    }
   ],
   "source": [
    "base_value=25\n",
    "power_value=2\n",
    "square_value=base_value ** power_value\n",
    "print(f\"3.Exponention or square of (25): {square_value}\")"
   ]
  },
  {
   "cell_type": "code",
   "execution_count": 45,
   "id": "e420ff17-070c-4691-b2b9-fbd7ede7e0ce",
   "metadata": {},
   "outputs": [
    {
     "name": "stdout",
     "output_type": "stream",
     "text": [
      "4.CUBE_ROOT :4.999999999999999\n"
     ]
    }
   ],
   "source": [
    "cube_root=125**(1/3)\n",
    "print(f\"4.CUBE_ROOT :{cube_root}\")"
   ]
  },
  {
   "cell_type": "code",
   "execution_count": 37,
   "id": "cb15cd39-d3d7-4ca9-89e1-07a2ab423ca7",
   "metadata": {},
   "outputs": [
    {
     "name": "stdout",
     "output_type": "stream",
     "text": [
      "5.sum of first 5 digits : 15\n"
     ]
    }
   ],
   "source": [
    "sum_digits=1+2+3+4+5\n",
    "print(f\"5.sum of first 5 digits : {sum_digits}\")"
   ]
  },
  {
   "cell_type": "code",
   "execution_count": 2,
   "id": "832e79db-2a3c-48e4-adb8-3a97746af0b7",
   "metadata": {},
   "outputs": [
    {
     "data": {
      "text/plain": [
       "6"
      ]
     },
     "execution_count": 2,
     "metadata": {},
     "output_type": "execute_result"
    }
   ],
   "source": [
    "6"
   ]
  },
  {
   "cell_type": "code",
   "execution_count": 18,
   "id": "93a7f024-cc80-440f-b498-34945edd274f",
   "metadata": {},
   "outputs": [
    {
     "name": "stdout",
     "output_type": "stream",
     "text": [
      "7. 40320\n"
     ]
    }
   ],
   "source": [
    "n=8\n",
    "f=1\n",
    "for i in range(1,n+1):\n",
    "    f=i*f\n",
    "print(f\"7. {f}\")"
   ]
  },
  {
   "cell_type": "code",
   "execution_count": 10,
   "id": "bf1b3a14-44e3-4696-8151-7b0709aaf53c",
   "metadata": {},
   "outputs": [
    {
     "name": "stdout",
     "output_type": "stream",
     "text": [
      "8. average : 33.4\n"
     ]
    }
   ],
   "source": [
    "sum_of_given_numbers=[15,23,31,42,56]\n",
    "sum_of_numbers=sum(sum_of_given_numbers)\n",
    "divide_to_get_average=sum_of_numbers/5\n",
    "print(f\"8. average : {divide_to_get_average}\")"
   ]
  },
  {
   "cell_type": "code",
   "execution_count": null,
   "id": "888d467d-e5eb-44f7-aaab-3dfa494364b3",
   "metadata": {},
   "outputs": [],
   "source": [
    "9"
   ]
  },
  {
   "cell_type": "code",
   "execution_count": 8,
   "id": "929dc63c-baf1-4b23-92a3-c2d20d70b8f1",
   "metadata": {},
   "outputs": [
    {
     "name": "stdout",
     "output_type": "stream",
     "text": [
      "10. 400\n"
     ]
    }
   ],
   "source": [
    "list_of_odd_numbers=list(range(1,41,2))\n",
    "odd_numbers=sum(list_of_odd_numbers)\n",
    "print(f\"10. {odd_numbers}\")"
   ]
  }
 ],
 "metadata": {
  "kernelspec": {
   "display_name": "Python 3 (ipykernel)",
   "language": "python",
   "name": "python3"
  },
  "language_info": {
   "codemirror_mode": {
    "name": "ipython",
    "version": 3
   },
   "file_extension": ".py",
   "mimetype": "text/x-python",
   "name": "python",
   "nbconvert_exporter": "python",
   "pygments_lexer": "ipython3",
   "version": "3.13.5"
  }
 },
 "nbformat": 4,
 "nbformat_minor": 5
}
