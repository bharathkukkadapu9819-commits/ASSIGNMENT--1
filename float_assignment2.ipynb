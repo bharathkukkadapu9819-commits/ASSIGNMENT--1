{
 "cells": [
  {
   "cell_type": "code",
   "execution_count": 42,
   "id": "0289ee74-2771-4aa5-87e4-e6e5888f2633",
   "metadata": {},
   "outputs": [
    {
     "name": "stdout",
     "output_type": "stream",
     "text": [
      "1.Average of given numbers :2.01325\n"
     ]
    }
   ],
   "source": [
    "x= (3.14 , 2.718 , 1.618 , 0.577 )\n",
    "new_sum=sum(x)\n",
    "y=new_sum/4\n",
    "print(f\"1.Average of given numbers :{y}\")"
   ]
  },
  {
   "cell_type": "code",
   "execution_count": 43,
   "id": "0d58f444-e9bb-4d73-95ef-77d7a6e59317",
   "metadata": {},
   "outputs": [
    {
     "name": "stdout",
     "output_type": "stream",
     "text": [
      "2. fahreinheit to Celsius is : 37.0\n"
     ]
    }
   ],
   "source": [
    "C=(98.6-32)*5/9\n",
    "print(f\"2. fahreinheit to Celsius is : {C}\")"
   ]
  },
  {
   "cell_type": "code",
   "execution_count": 90,
   "id": "fc264015-3e49-48cf-a8eb-582e2a92bfbf",
   "metadata": {},
   "outputs": [
    {
     "name": "stdout",
     "output_type": "stream",
     "text": [
      "3. compound_intrest : 1174.2413749999998\n"
     ]
    }
   ],
   "source": [
    "P=1000\n",
    "R=0.055            # r=R=(5.5/100)\n",
    "T=3\n",
    "n=1\n",
    "compound_intrest=P*(1+(R/n))**(n*T)\n",
    "print(f\"3. compound_intrest : {compound_intrest}\")"
   ]
  },
  {
   "cell_type": "code",
   "execution_count": 93,
   "id": "1a077d86-076d-4e73-a8e7-bc69e30b873f",
   "metadata": {},
   "outputs": [
    {
     "name": "stdout",
     "output_type": "stream",
     "text": [
      "4. AC : 5.4671747731346585\n"
     ]
    }
   ],
   "source": [
    "AB=3.5\n",
    "BC=4.2\n",
    "AC = (((AB)**2) + ((BC)**2))**(1/2)\n",
    "print(f\"4. AC : {AC}\")"
   ]
  },
  {
   "cell_type": "code",
   "execution_count": 94,
   "id": "a9395e41-857a-405e-980b-ff0e9cea84f8",
   "metadata": {},
   "outputs": [
    {
     "name": "stdout",
     "output_type": "stream",
     "text": [
      "5. Volume_of_sphere : 1986.7910399999998\n"
     ]
    }
   ],
   "source": [
    "Volume_of_sphere=4/3*3.14*7.8**3\n",
    "print(f\"5. Volume_of_sphere : {Volume_of_sphere}\")"
   ]
  },
  {
   "cell_type": "code",
   "execution_count": 99,
   "id": "54411924-9813-4dca-8960-56b73e78a3bd",
   "metadata": {},
   "outputs": [
    {
     "name": "stdout",
     "output_type": "stream",
     "text": [
      "6. round:3.142\n"
     ]
    }
   ],
   "source": [
    "X=3.14159\n",
    "print(f\"6. round:{round(X ,3)}\")"
   ]
  },
  {
   "cell_type": "code",
   "execution_count": 100,
   "id": "348c6de5-8f6c-43a8-b36b-a86311a5f3b6",
   "metadata": {},
   "outputs": [
    {
     "name": "stdout",
     "output_type": "stream",
     "text": [
      "7. percentage : 67.16417910447761\n"
     ]
    }
   ],
   "source": [
    "A=45\n",
    "B=67\n",
    "percentage=A/B*100\n",
    "print(f\"7. percentage : {percentage}\")"
   ]
  },
  {
   "cell_type": "code",
   "execution_count": 101,
   "id": "92d55a7e-7dd6-4683-89e0-f9eecfa6636b",
   "metadata": {},
   "outputs": [
    {
     "name": "stdout",
     "output_type": "stream",
     "text": [
      "8. square_rooting : 4.843139477652899\n"
     ]
    }
   ],
   "source": [
    "square_rooting=23.456**(1/2)\n",
    "print(f\"8. square_rooting : {square_rooting}\")"
   ]
  },
  {
   "cell_type": "code",
   "execution_count": 102,
   "id": "213d6e4f-25a1-4c82-9d23-c1d0475cf064",
   "metadata": {},
   "outputs": [
    {
     "name": "stdout",
     "output_type": "stream",
     "text": [
      "9. simple_intrest : 406.25\n"
     ]
    }
   ],
   "source": [
    "P=2500\n",
    "R=6.5\n",
    "T=2.5\n",
    "simple_intrest=(P*T*R)/100\n",
    "print(f\"9. simple_intrest : {simple_intrest}\")"
   ]
  },
  {
   "cell_type": "code",
   "execution_count": 105,
   "id": "fc34255f-af66-4faa-82f8-da50ce0ed933",
   "metadata": {},
   "outputs": [
    {
     "name": "stdout",
     "output_type": "stream",
     "text": [
      "10. Radians : 0.7972111111111112\n"
     ]
    }
   ],
   "source": [
    "D=45.7\n",
    "R=D*3.14/180\n",
    "print(f\"10. Radians : {R}\")"
   ]
  }
 ],
 "metadata": {
  "kernelspec": {
   "display_name": "Python 3 (ipykernel)",
   "language": "python",
   "name": "python3"
  },
  "language_info": {
   "codemirror_mode": {
    "name": "ipython",
    "version": 3
   },
   "file_extension": ".py",
   "mimetype": "text/x-python",
   "name": "python",
   "nbconvert_exporter": "python",
   "pygments_lexer": "ipython3",
   "version": "3.13.5"
  }
 },
 "nbformat": 4,
 "nbformat_minor": 5
}
